{
  "nbformat": 4,
  "nbformat_minor": 0,
  "metadata": {
    "colab": {
      "name": "Breadth_first_search.ipynb",
      "provenance": [],
      "collapsed_sections": []
    },
    "kernelspec": {
      "name": "python3",
      "display_name": "Python 3"
    },
    "language_info": {
      "name": "python"
    }
  },
  "cells": [
    {
      "cell_type": "code",
      "execution_count": null,
      "metadata": {
        "id": "T8ZE4uX_if-v"
      },
      "outputs": [],
      "source": [
        "WHITE = 0\n",
        "GRAY = 1\n",
        "BLACK = 2\n",
        "\n",
        "class Graph:\n",
        "    \n",
        "    def __init__(self,M):\n",
        "        self.Mat = M\n",
        "        self.N = M.shape[0]\n",
        "        self.parent = [None for _ in range(self.N)]\n",
        "        self.color = [None for _ in range(self.N)]\n",
        "        \n",
        "        \n",
        "    def getParent(self,index):\n",
        "        return self.parent[index]\n",
        "        \n",
        "    def getColor(self,index):\n",
        "        return self.color[index]\n",
        "    \n",
        "    def setParent(self,index,P):\n",
        "        self.parent[index] = P\n",
        "        \n",
        "    def setColor(self,index,color):\n",
        "        self.color[index] = color\n",
        "        \n",
        "    def getAdj(self, index):\n",
        "        adj=[]\n",
        "        for i,v in enumerate(self.Mat[index,:]):\n",
        "            if v!=0:\n",
        "                adj.append(i)\n",
        "        return adj\n",
        "    \n",
        "    \n",
        "\n",
        "class BFS:\n",
        "    \n",
        "    def __init__(self,G,source):\n",
        "        \n",
        "        self.G = G\n",
        "        self.source = source\n",
        "        self.Q = []\n",
        "        self.result = []\n",
        "        \n",
        "    def traverse(self):\n",
        "    \n",
        "        for i in range(self.G.N):\n",
        "            self.G.setColor(i,WHITE)\n",
        "            self.G.setParent(i,None)\n",
        "            \n",
        "        self.G.setColor(self.source,GRAY)\n",
        "        self.Q.append(self.source)\n",
        "        while self.Q :\n",
        "            u = self.Q.pop(0)\n",
        "            for v in self.G.getAdj(u):\n",
        "                if self.G.getColor(v) == WHITE:\n",
        "                    self.G.setColor(v,GRAY)\n",
        "                    self.G.setParent(v,u)\n",
        "                    self.Q.append(v)\n",
        "            self.G.setColor(u,BLACK)\n",
        "            self.result.append(u)\n",
        "            \n",
        "    def printResult(self):\n",
        "        for u in self.result:\n",
        "            print(u,end=' ')\n",
        "        print('')\n",
        "            \n",
        "    def printLevel(self,curr,depth):\n",
        "        if curr == None:\n",
        "            return;\n",
        "        for i in range(1,depth):\n",
        "            print(\"│   \",end='')\n",
        "        if depth > 0:\n",
        "            print(\"|___\",end='')\n",
        "        print(curr);\n",
        "\n",
        "        for child in [i for i,x in enumerate(self.G.parent) if x== curr]:\n",
        "            self.printLevel(child, depth + 1);\n",
        "        \n",
        "\n",
        "           "
      ]
    },
    {
      "cell_type": "code",
      "source": [
        "import numpy as np\n",
        "\n",
        "M = np.array([[0,1,1,0,0],\n",
        "              [1,1,0,1,0],\n",
        "              [1,0,0,1,1],\n",
        "              [0,1,1,0,1],\n",
        "              [0,0,1,1,0]])\n",
        "\n",
        "G = Graph(M)\n",
        "bfs = BFS(G,1)\n",
        "bfs.traverse()\n",
        "bfs.printResult()\n",
        "bfs.printLevel(1,0)"
      ],
      "metadata": {
        "colab": {
          "base_uri": "https://localhost:8080/"
        },
        "id": "0uOJOOPciscf",
        "outputId": "0bd90471-bb0d-493f-e7da-3755ffe0bb7b"
      },
      "execution_count": null,
      "outputs": [
        {
          "output_type": "stream",
          "name": "stdout",
          "text": [
            "1 0 3 2 4 \n",
            "1\n",
            "|___0\n",
            "│   |___2\n",
            "|___3\n",
            "│   |___4\n"
          ]
        }
      ]
    }
  ]
}